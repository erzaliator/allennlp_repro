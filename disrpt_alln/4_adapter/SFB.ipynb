{
 "cells": [
  {
   "cell_type": "code",
   "execution_count": 11,
   "metadata": {},
   "outputs": [
    {
     "data": {
      "image/png": "[encoded data removed]",
      "text/plain": [
       "<Figure size 432x288 with 1 Axes>"
      ]
     },
     "metadata": {
      "needs_background": "light"
     },
     "output_type": "display_data"
    }
   ],
   "source": [
    "import pandas as pd\n",
    "import matplotlib.pyplot as plt\n",
    "import matplotlib\n",
    "import pandas as pd\n",
    "\n",
    "# custom reader needed to handle quotechars\n",
    "def read_df_custom(file):\n",
    "    header = 'doc     unit1_toks      unit2_toks      unit1_txt       unit2_txt       s1_toks s2_toks unit1_sent      unit2_sent      dir     nuc_children    sat_children    genre   u1_discontinuous        u2_discontinuous       u1_issent        u2_issent       u1_length       u2_length       length_ratio    u1_speaker      u2_speaker      same_speaker    u1_func u1_pos  u1_depdir       u2_func u2_pos  u2_depdir       doclen  u1_position      u2_position     percent_distance        distance        lex_overlap_words       lex_overlap_length      unit1_case      unit2_case      label'\n",
    "    extracted_columns = ['unit1_txt', 'unit1_sent', 'unit2_txt', 'unit2_sent', 'dir', 'label', 'distance', 'u1_depdir', 'u2_depdir', 'u2_func', 'u1_position', 'u2_position', 'sat_children', 'nuc_children', 'genre', 'unit1_case', 'unit2_case',\n",
    "                            'u1_discontinuous', 'u2_discontinuous', 'same_speaker', 'lex_overlap_length', 'u1_func']\n",
    "    header = header.split()\n",
    "    df = pd.DataFrame(columns=extracted_columns)\n",
    "    file = open(file, 'r')\n",
    "\n",
    "    rows = []\n",
    "    count = 0 \n",
    "    for line in file:\n",
    "        line = line[:-1].split('\\t')\n",
    "        count+=1\n",
    "        if count ==1: continue\n",
    "        row = {}\n",
    "        for column in extracted_columns:\n",
    "            index = header.index(column)\n",
    "            try:\n",
    "                row[column] = line[index]\n",
    "            except:\n",
    "                print(count, line)\n",
    "            row[column] = line[index]\n",
    "        rows.append(row)\n",
    "\n",
    "    df = pd.concat([df, pd.DataFrame.from_records(rows)])\n",
    "    return df\n",
    "\n",
    "train_df_en = read_df_custom('../../processed/translated/eng.rst.rstdt_train_enriched_translated.rels')\n",
    "test_df_en = read_df_custom('../../processed/translated/eng.rst.rstdt_test_enriched_translated.rels')\n",
    "val_df_en = read_df_custom('../../processed/translated/eng.rst.rstdt_dev_enriched_translated.rels')\n",
    "train_df_de = read_df_custom('../../processed/deu.rst.pcc_train_enriched.rels')\n",
    "test_df_de = read_df_custom('../../processed/deu.rst.pcc_test_enriched.rels')\n",
    "val_df_de = read_df_custom('../../processed/deu.rst.pcc_dev_enriched.rels')\n",
    "\n",
    "lang='deu'\n",
    "\n",
    "de_df = pd.concat([train_df_de, test_df_de, val_df_de])\n",
    "en_df = pd.concat([train_df_en, test_df_en, val_df_en])\n",
    "\n",
    "total_df = pd.DataFrame()\n",
    "total_df_de = pd.DataFrame()\n",
    "total_df_en = pd.DataFrame()\n",
    "total_df_de['German'] = de_df.groupby(['label'])['label'].count()\n",
    "total_df_en['English'] = en_df.groupby(['label'])['label'].count()\n",
    "total_df_de=total_df_de*100/total_df_de.sum()\n",
    "total_df_en=total_df_en*100/total_df_en.sum()\n",
    "total_df = total_df_en.join(total_df_de, how=\"outer\")\n",
    "total_df.fillna(0, inplace=True)\n",
    "total_df\n",
    "total_df.sort_values(by=['English'], inplace=True, ascending=False)\n",
    "total_df_plot = total_df[:5]\n",
    "total_df_plot = pd.concat([total_df_plot, total_df.loc[['concession']]])\n",
    "total_df_plot.reset_index(inplace=True)\n",
    "total_df_plot.label.replace('concession', 'concess.', inplace=True)\n",
    "total_df_plot.label.replace('elaboration', 'elab.', inplace=True)\n",
    "# total_df_plot.label.replace('attribution', 'attr.', inplace=True)\n",
    "total_df_plot.label.replace('explanation', 'explain.', inplace=True)\n",
    "total_df_plot.set_index('label', inplace=True)\n",
    "\n",
    "# font = {'family' : 'normal',\n",
    "#         'weight' : 'bold',\n",
    "#         'size'   : 12}\n",
    "\n",
    "# matplotlib.rc('font', **font)\n",
    "\n",
    "ax = total_df_plot.plot.bar(color=[\"#2aa22a\",\"#ff7f0e\"], rot=0, title=\"Label distribution for English and German RST datasets\")\n",
    "# ax.title()\n",
    "ax.set_xlabel(\"Labels\")\n",
    "ax.set_ylabel(\"Percentages\")\n",
    "# plt.show()\n",
    "plt.savefig('SFB.png', dpi=500)\n"
   ]
  },
  {
   "cell_type": "code",
   "execution_count": 3,
   "metadata": {},
   "outputs": [
    {
     "data": {
      "text/html": [
       "<div>\n",
       "<style scoped>\n",
       "    .dataframe tbody tr th:only-of-type {\n",
       "        vertical-align: middle;\n",
       "    }\n",
       "\n",
       "    .dataframe tbody tr th {\n",
       "        vertical-align: top;\n",
       "    }\n",
       "\n",
       "    .dataframe thead th {\n",
       "        text-align: right;\n",
       "    }\n",
       "</style>\n",
       "<table border=\"1\" class=\"dataframe\">\n",
       "  <thead>\n",
       "    <tr style=\"text-align: right;\">\n",
       "      <th></th>\n",
       "      <th>English</th>\n",
       "      <th>German</th>\n",
       "    </tr>\n",
       "    <tr>\n",
       "      <th>label</th>\n",
       "      <th></th>\n",
       "      <th></th>\n",
       "    </tr>\n",
       "  </thead>\n",
       "  <tbody>\n",
       "    <tr>\n",
       "      <th>elab.</th>\n",
       "      <td>39.948428</td>\n",
       "      <td>7.654784</td>\n",
       "    </tr>\n",
       "    <tr>\n",
       "      <th>attr.</th>\n",
       "      <td>13.919507</td>\n",
       "      <td>0.000000</td>\n",
       "    </tr>\n",
       "    <tr>\n",
       "      <th>joint</th>\n",
       "      <td>10.825159</td>\n",
       "      <td>9.305816</td>\n",
       "    </tr>\n",
       "    <tr>\n",
       "      <th>contrast</th>\n",
       "      <td>5.652745</td>\n",
       "      <td>1.838649</td>\n",
       "    </tr>\n",
       "    <tr>\n",
       "      <th>explain.</th>\n",
       "      <td>4.965113</td>\n",
       "      <td>0.000000</td>\n",
       "    </tr>\n",
       "    <tr>\n",
       "      <th>concess.</th>\n",
       "      <td>0.000000</td>\n",
       "      <td>4.690432</td>\n",
       "    </tr>\n",
       "  </tbody>\n",
       "</table>\n",
       "</div>"
      ],
      "text/plain": [
       "            English    German\n",
       "label                        \n",
       "elab.     39.948428  7.654784\n",
       "attr.     13.919507  0.000000\n",
       "joint     10.825159  9.305816\n",
       "contrast   5.652745  1.838649\n",
       "explain.   4.965113  0.000000\n",
       "concess.   0.000000  4.690432"
      ]
     },
     "execution_count": 3,
     "metadata": {},
     "output_type": "execute_result"
    }
   ],
   "source": [
    "total_df_plot"
   ]
  }
 ],
 "metadata": {
  "kernelspec": {
   "display_name": "Python 3",
   "language": "python",
   "name": "python3"
  },
  "language_info": {
   "codemirror_mode": {
    "name": "ipython",
    "version": 3
   },
   "file_extension": ".py",
   "mimetype": "text/x-python",
   "name": "python",
   "nbconvert_exporter": "python",
   "pygments_lexer": "ipython3",
   "version": "3.6.9"
  },
  "orig_nbformat": 4,
  "vscode": {
   "interpreter": {
    "hash": "31f2aee4e71d21fbe5cf8b01ff0e069b9275f58929596ceb00d14d90e3e16cd6"
   }
  }
 },
 "nbformat": 4,
 "nbformat_minor": 2
}
