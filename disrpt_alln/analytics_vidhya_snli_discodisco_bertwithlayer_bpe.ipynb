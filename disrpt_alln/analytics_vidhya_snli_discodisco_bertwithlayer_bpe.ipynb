{
 "cells": [
  {
   "cell_type": "markdown",
   "metadata": {},
   "source": [
    "# Base code from analytics_vidhya_snli_discodisco_bertwithlayers.ipynb"
   ]
  },
  {
   "cell_type": "code",
   "execution_count": 86,
   "metadata": {},
   "outputs": [],
   "source": [
    "#seeding for comparing experiment in part 2\n",
    "import torch\n",
    "SEED = 1111\n",
    "torch.manual_seed(SEED)\n",
    "torch.backends.cudnn.deterministic = True\n",
    "\n",
    "device = torch.device('cuda:4')"
   ]
  },
  {
   "cell_type": "markdown",
   "metadata": {},
   "source": [
    "# SNLI Bert\n",
    "## Second Tutorial\n",
    "https://towardsdatascience.com/fine-tuning-pre-trained-transformer-models-for-sentence-entailment-d87caf9ec9db\n",
    "Check his Github code for complete notebook. I never referred to it. Medium was enough.\n",
    "BERT in keras-tf: https://towardsdatascience.com/bert-in-keras-with-tensorflow-hub-76bcbc9417b"
   ]
  },
  {
   "cell_type": "code",
   "execution_count": 87,
   "metadata": {},
   "outputs": [],
   "source": [
    "# define macros\n",
    "BERT_MODEL = 'GroNLP/bert-base-dutch-cased' #'HooshvareLab/bert-fa-base-uncased'\n",
    "# 'bert-base-multilingual-cased'\n",
    "# 'bert-base-uncased'\n",
    "\n",
    "batch_size = 64\n",
    "batches_per_epoch = 64"
   ]
  },
  {
   "cell_type": "markdown",
   "metadata": {},
   "source": [
    "# Prepare data"
   ]
  },
  {
   "cell_type": "markdown",
   "metadata": {},
   "source": [
    "## load the dataset"
   ]
  },
  {
   "cell_type": "code",
   "execution_count": 88,
   "metadata": {},
   "outputs": [],
   "source": [
    "# !wget https://nlp.stanford.edu/projects/snli/snli_1.0.zip"
   ]
  },
  {
   "cell_type": "code",
   "execution_count": 89,
   "metadata": {},
   "outputs": [
    {
     "data": {
      "text/plain": [
       "1608"
      ]
     },
     "execution_count": 89,
     "metadata": {},
     "output_type": "execute_result"
    }
   ],
   "source": [
    "import pandas as pd\n",
    "\n",
    "# custom reader needed to handle quotechars\n",
    "def read_df_custom(file):\n",
    "    header = 'doc     unit1_toks      unit2_toks      unit1_txt       unit2_txt       s1_toks s2_toks unit1_sent      unit2_sent      dir     nuc_children    sat_children    genre   u1_discontinuous        u2_discontinuous       u1_issent        u2_issent       u1_length       u2_length       length_ratio    u1_speaker      u2_speaker      same_speaker    u1_func u1_pos  u1_depdir       u2_func u2_pos  u2_depdir       doclen  u1_position      u2_position     percent_distance        distance        lex_overlap_words       lex_overlap_length      unit1_case      unit2_case      label'\n",
    "    header = header.split()\n",
    "    df = pd.DataFrame(columns=['unit1_txt', 'unit1_sent', 'unit2_txt', 'unit2_sent', 'dir', 'label'])\n",
    "    file = open(file, 'r')\n",
    "\n",
    "    rows = []\n",
    "    count = 0 \n",
    "    for line in file:\n",
    "        line = line[:-1].split('\\t')\n",
    "        count+=1\n",
    "        if count ==1: continue\n",
    "        row = {}\n",
    "        for column in ['unit1_txt', 'unit1_sent', 'unit2_txt', 'unit2_sent', 'dir', 'label']:\n",
    "            index = header.index(column)\n",
    "            row[column] = line[index]\n",
    "        rows.append(row)\n",
    "\n",
    "    df = pd.concat([df, pd.DataFrame.from_records(rows)])\n",
    "    return df\n",
    "\n",
    "# we only need specific columns\n",
    "train_df = read_df_custom('../processed/nld.rst.nldt_train_enriched.rels')\n",
    "test_df = read_df_custom('../processed/nld.rst.nldt_test_enriched.rels')\n",
    "val_df = read_df_custom('../processed/nld.rst.nldt_dev_enriched.rels')\n",
    "# train_df = read_df_custom('../processed/fas.rst.prstc_train_enriched.rels')\n",
    "# test_df = read_df_custom('../processed/fas.rst.prstc_test_enriched.rels')\n",
    "# val_df = read_df_custom('../processed/fas.rst.prstc_dev_enriched.rels')\n",
    "len(train_df)"
   ]
  },
  {
   "cell_type": "markdown",
   "metadata": {},
   "source": [
    "## Clean the data"
   ]
  },
  {
   "cell_type": "code",
   "execution_count": 90,
   "metadata": {},
   "outputs": [],
   "source": [
    "#dropping any empty values\n",
    "train_df.dropna(inplace=True)\n",
    "val_df.dropna(inplace=True)\n",
    "test_df.dropna(inplace=True)\n",
    "\n",
    "# train_df = train_df[:500]\n",
    "# val_df = val_df[:50]\n",
    "# test_df = test_df[:50]"
   ]
  },
  {
   "cell_type": "markdown",
   "metadata": {},
   "source": [
    "## Prepare a dataset handler class"
   ]
  },
  {
   "cell_type": "code",
   "execution_count": 91,
   "metadata": {},
   "outputs": [],
   "source": [
    "import torch\n",
    "from torch.utils.data import Dataset, TensorDataset, DataLoader\n",
    "from sys import path\n",
    "path.append('/home/VD/kaveri/anaconda3/envs/py310/lib/python3.10/site-packages/allennlp/data/data_loaders/')\n",
    "from allennlp.data import allennlp_collate#, DataLoader\n",
    "# from allennlp.data.data_loaders.simple_data_loader import SimpleDataLoader\n",
    "from torch.nn.utils.rnn import pad_sequence\n",
    "from transformers import BertTokenizer\n",
    "import pandas as pd\n",
    "\n",
    "class MNLIDataBert(Dataset):\n",
    "\n",
    "  def __init__(self, train_df, val_df, test_df):\n",
    "    self.num_labels = -1\n",
    "    self.train_df = train_df\n",
    "    self.val_df = val_df\n",
    "    self.test_df = test_df\n",
    "\n",
    "    self.tokenizer = BertTokenizer.from_pretrained(BERT_MODEL, do_lower_case=True) # Using a pre-trained BERT tokenizer to encode sentences\n",
    "    self.train_data = None\n",
    "    self.val_data = None\n",
    "    self.test_data = None\n",
    "    self.init_data()\n",
    "\n",
    "  def init_data(self):\n",
    "    self.get_label_mapping()\n",
    "    self.train_data = self.load_data(self.train_df)\n",
    "    self.val_data = self.load_data(self.val_df)\n",
    "    self.test_data = self.load_data(self.test_df)\n",
    "\n",
    "  def get_label_mapping(self):\n",
    "    labels = {}\n",
    "    labels_list = list(set(list(self.train_df['label'].unique()) + list(self.test_df['label'].unique()) + list(self.val_df['label'].unique())))\n",
    "    for i in range(len(labels_list)):\n",
    "        labels[labels_list[i]] = i\n",
    "    self.label_dict = labels# {'entailment': 0, 'contradiction': 1, 'neutral': 2}\n",
    "    # needed later for classification report object to generate precision and recall on test dataset\n",
    "    self.rev_label_dict = {self.label_dict[k]:k for k in self.label_dict.keys()} \n",
    "  \n",
    "  def add_directionality(self, premise, hypothesis, dir):\n",
    "    if dir == \"1<2\":\n",
    "        hypothesis = '< ' + hypothesis + ' {'\n",
    "    else:\n",
    "        premise = '} ' + premise + ' >'\n",
    "    return premise, hypothesis\n",
    "    \n",
    "\n",
    "  def load_data(self, df):\n",
    "    MAX_LEN = 256 # dont need to enforce this now because snli is a sanitized dataset where sentence lenghts are reasonable. otherwise the beert model doesn't have enough parameters to handle long length sentences\n",
    "    token_ids = []\n",
    "    mask_ids = []\n",
    "    seg_ids = []\n",
    "    y = []\n",
    "\n",
    "    premise_list = df['unit1_txt'].to_list()\n",
    "    hypothesis_list = df['unit2_txt'].to_list()\n",
    "    label_list = df['label'].to_list()\n",
    "    dir_list = df['dir'].to_list()\n",
    "    \n",
    "    self.num_labels = max(self.num_labels, len(df['label'].unique()))\n",
    "\n",
    "    for (premise, hypothesis, label, dir) in zip(premise_list, hypothesis_list, label_list, dir_list):\n",
    "      premise, hypothesis = self.add_directionality(premise, hypothesis, dir)\n",
    "      premise_id = self.tokenizer.encode(premise, add_special_tokens = False, max_length=MAX_LEN, truncation=True)\n",
    "      hypothesis_id = self.tokenizer.encode(hypothesis, add_special_tokens = False, max_length=MAX_LEN, truncation=True)\n",
    "      pair_token_ids = [self.tokenizer.cls_token_id] + premise_id + [self.tokenizer.sep_token_id] + hypothesis_id + [self.tokenizer.sep_token_id]\n",
    "      premise_len = len(premise_id)\n",
    "      hypothesis_len = len(hypothesis_id)\n",
    "\n",
    "      segment_ids = torch.tensor([0] * (premise_len + 2) + [1] * (hypothesis_len + 1))  # sentence 0 and sentence 1\n",
    "      attention_mask_ids = torch.tensor([1] * (premise_len + hypothesis_len + 3))  # mask padded values\n",
    "\n",
    "      token_ids.append(torch.tensor(pair_token_ids))\n",
    "      seg_ids.append(segment_ids)\n",
    "      mask_ids.append(attention_mask_ids)\n",
    "      y.append(self.label_dict[label])\n",
    "    \n",
    "    token_ids = pad_sequence(token_ids, batch_first=True)\n",
    "    mask_ids = pad_sequence(mask_ids, batch_first=True)\n",
    "    seg_ids = pad_sequence(seg_ids, batch_first=True)\n",
    "\n",
    "    y = torch.tensor(y)\n",
    "    dataset = TensorDataset(token_ids, mask_ids, seg_ids, y)\n",
    "    return dataset\n",
    "\n",
    "  def get_data_loaders(self, batch_size=4, batches_per_epoch=402, shuffle=True): #1609 samples / 64:25=1600 / 402:4=1608\n",
    "    train_loader_torch = DataLoader(\n",
    "      self.train_data,\n",
    "      shuffle=shuffle,\n",
    "      batch_size=batch_size,\n",
    "    )\n",
    "\n",
    "    val_loader_torch = DataLoader(\n",
    "      self.val_data,\n",
    "      shuffle=shuffle,\n",
    "      batch_size=batch_size,\n",
    "    )\n",
    "\n",
    "    test_loader_torch = DataLoader(\n",
    "      self.test_data,\n",
    "      shuffle=False,#shuffle,\n",
    "      batch_size=batch_size,\n",
    "    )\n",
    "    \n",
    "    train_loader = LoaderWrapper(train_loader_torch, n_step=batches_per_epoch)\n",
    "    val_loader = LoaderWrapper(val_loader_torch, n_step=batches_per_epoch)\n",
    "    test_loader = LoaderWrapper(test_loader_torch, n_step=batches_per_epoch)\n",
    "\n",
    "    return train_loader, val_loader_torch, test_loader_torch"
   ]
  },
  {
   "cell_type": "code",
   "execution_count": 92,
   "metadata": {},
   "outputs": [],
   "source": [
    "class LoaderWrapper:\n",
    "    def __init__(self, loader, n_step):\n",
    "        self.step = n_step\n",
    "        self.idx = 0\n",
    "        self.iter_loader = iter(loader)\n",
    "        self.loader = loader\n",
    "    \n",
    "    def __iter__(self):\n",
    "        return self\n",
    "\n",
    "    def __len__(self):\n",
    "        return self.step\n",
    "\n",
    "    def __next__(self):\n",
    "        # if reached number of steps desired, stop\n",
    "        if self.idx == self.step:\n",
    "            self.idx = 0\n",
    "            raise StopIteration\n",
    "        else:\n",
    "            self.idx += 1\n",
    "        # while True\n",
    "        try:\n",
    "            return next(self.iter_loader)\n",
    "        except StopIteration:\n",
    "            # reinstate iter_loader, then continue\n",
    "            self.iter_loader = iter(self.loader)\n",
    "            return next(self.iter_loader)"
   ]
  },
  {
   "cell_type": "code",
   "execution_count": 93,
   "metadata": {},
   "outputs": [],
   "source": [
    "mnli_dataset = MNLIDataBert(train_df, val_df, test_df)\n",
    "\n",
    "train_loader, val_loader, test_loader = mnli_dataset.get_data_loaders(batch_size=batch_size, batches_per_epoch=batches_per_epoch) #64X250\n",
    "label_dict = mnli_dataset.label_dict # required by custom func to calculate accuracy, bert model\n",
    "rev_label_dict = mnli_dataset.rev_label_dict # required by custom func to calculate accuracy"
   ]
  },
  {
   "cell_type": "code",
   "execution_count": 94,
   "metadata": {},
   "outputs": [
    {
     "name": "stdout",
     "output_type": "stream",
     "text": [
      "{'circumstance': 0, 'elaboration': 1, 'interpretation': 2, 'unless': 3, 'span': 4, 'solutionhood': 5, 'condition': 6, 'contrast': 7, 'concession': 8, 'preparation': 9, 'unconditional': 10, 'restatement-mn': 11, 'nonvolitional-cause': 12, 'volitional-result': 13, 'sequence': 14, 'volitional-cause': 15, 'motivation': 16, 'otherwise': 17, 'nonvolitional-result': 18, 'list': 19, 'summary': 20, 'disjunction': 21, 'background': 22, 'enablement': 23, 'evidence': 24, 'joint': 25, 'justify': 26, 'evaluation': 27, 'purpose': 28, 'means': 29, 'restatement': 30, 'conjunction': 31, 'antithesis': 32}\n"
     ]
    }
   ],
   "source": [
    "print(label_dict)"
   ]
  },
  {
   "cell_type": "markdown",
   "metadata": {},
   "source": [
    "# Define the model"
   ]
  },
  {
   "cell_type": "markdown",
   "metadata": {},
   "source": [
    "## load pretrained model"
   ]
  },
  {
   "cell_type": "code",
   "execution_count": 95,
   "metadata": {},
   "outputs": [
    {
     "name": "stderr",
     "output_type": "stream",
     "text": [
      "Some weights of the model checkpoint at GroNLP/bert-base-dutch-cased were not used when initializing BertForSequenceClassification: ['cls.predictions.transform.dense.bias', 'cls.predictions.transform.LayerNorm.bias', 'cls.predictions.transform.dense.weight', 'cls.predictions.decoder.weight', 'cls.predictions.decoder.bias', 'cls.predictions.bias', 'cls.predictions.transform.LayerNorm.weight']\n",
      "- This IS expected if you are initializing BertForSequenceClassification from the checkpoint of a model trained on another task or with another architecture (e.g. initializing a BertForSequenceClassification model from a BertForPreTraining model).\n",
      "- This IS NOT expected if you are initializing BertForSequenceClassification from the checkpoint of a model that you expect to be exactly identical (initializing a BertForSequenceClassification model from a BertForSequenceClassification model).\n",
      "Some weights of BertForSequenceClassification were not initialized from the model checkpoint at GroNLP/bert-base-dutch-cased and are newly initialized: ['classifier.bias', 'classifier.weight', 'bert.pooler.dense.bias', 'bert.pooler.dense.weight']\n",
      "You should probably TRAIN this model on a down-stream task to be able to use it for predictions and inference.\n",
      "/home/VD/kaveri/anaconda3/envs/py310/lib/python3.10/site-packages/transformers/optimization.py:306: FutureWarning: This implementation of AdamW is deprecated and will be removed in a future version. Use the PyTorch implementation torch.optim.AdamW instead, or set `no_deprecation_warning=True` to disable this warning\n",
      "  warnings.warn(\n"
     ]
    }
   ],
   "source": [
    "from transformers import BertForSequenceClassification, AdamW\n",
    "from torch import optim\n",
    "\n",
    "model = BertForSequenceClassification.from_pretrained(BERT_MODEL, num_labels=len(label_dict)).to(device)\n",
    "optimizer = AdamW(model.parameters(), lr=2e-5, correct_bias=False)\n",
    "scheduler = optim.lr_scheduler.ReduceLROnPlateau(optimizer, factor=0.6, mode='max', patience=2, min_lr=5e-7, verbose=True)"
   ]
  },
  {
   "cell_type": "code",
   "execution_count": 96,
   "metadata": {},
   "outputs": [
    {
     "name": "stdout",
     "output_type": "stream",
     "text": [
      "0.3333333333333333\n",
      "1.0\n"
     ]
    }
   ],
   "source": [
    "from CategoricalAccuracy import CategoricalAccuracy as CA\n",
    "import numpy as np\n",
    "\n",
    "ca = CA()\n",
    "\n",
    "x = torch.tensor(np.array([[[1,0,0], [1,0,0], [1,0,0]]]))\n",
    "y1 = torch.tensor(np.array([[0], [1], [1]]))\n",
    "y2 = torch.tensor(np.array([[0], [0], [0]]))\n",
    "\n",
    "ca(x,y1)\n",
    "print(ca.get_metric(reset=True))\n",
    "ca(x,y2)\n",
    "print(ca.get_metric(reset=True))"
   ]
  },
  {
   "cell_type": "markdown",
   "metadata": {},
   "source": [
    "## define evaulation metric"
   ]
  },
  {
   "cell_type": "code",
   "execution_count": 97,
   "metadata": {},
   "outputs": [],
   "source": [
    "# to evaluate model for train and test. And also use classification report for testing\n",
    "import torch.nn as nn\n",
    "import matplotlib.pyplot as plt\n",
    "import seaborn as sns\n",
    "\n",
    "# helper function to calculate the batch accuracy\n",
    "def multi_acc(y_pred, y_test, allennlp=False):\n",
    "  if allennlp==False:\n",
    "    acc = (torch.log_softmax(y_pred, dim=1).argmax(dim=1) == y_test).sum().float() / float(y_test.size(0))\n",
    "    return acc\n",
    "\n",
    "def save_cm(y_true, y_pred, target_names, display_zeros=True):\n",
    "  confusion_matrix = pd.crosstab(y_true, y_pred)\n",
    "  print(confusion_matrix)\n",
    "  target_namesx = confusion_matrix.columns\n",
    "  target_namesy = confusion_matrix.index.values\n",
    "\n",
    "  fig, ax = plt.subplots(figsize=(10,10))\n",
    "  s = sns.heatmap(confusion_matrix, xticklabels=target_namesx, yticklabels=target_namesy, annot=True, fmt = '.5g')\n",
    "\n",
    "  plt.title('CM predicted v actual values')\n",
    "  plt.xlabel('Pred')\n",
    "  plt.ylabel('True')\n",
    "  plt.tight_layout()\n",
    "  # plt.show()\n",
    "  # plt.savefig(image_file+exp+'.png')\n",
    "  # print(image_file+exp+'.png')\n",
    "\n",
    "# freeze model weights and measure validation / test \n",
    "def evaluate_accuracy(model, optimizer, data_loader, rev_label_dict, label_dict, is_training=True):\n",
    "  model.eval()\n",
    "  total_val_acc  = 0\n",
    "  total_val_loss = 0\n",
    "  \n",
    "  #for classification report\n",
    "  y_true = []\n",
    "  y_pred = []\n",
    "\n",
    "  with torch.no_grad():\n",
    "    for batch_idx, (pair_token_ids, mask_ids, seg_ids, y) in enumerate(data_loader):      \n",
    "      optimizer.zero_grad()\n",
    "      pair_token_ids = pair_token_ids.to(device)\n",
    "      mask_ids = mask_ids.to(device)\n",
    "      seg_ids = seg_ids.to(device)\n",
    "      labels = y.to(device)\n",
    "      \n",
    "      # loss, prediction = model(pair_token_ids, \n",
    "      #                       token_type_ids=seg_ids, \n",
    "      #                       attention_mask=mask_ids, \n",
    "      #                       labels=labels).values()\n",
    "      # acc = multi_acc(prediction, labels)\n",
    "\n",
    "      ############new code#####################\n",
    "\n",
    "      outputs = model(pair_token_ids, \n",
    "                            token_type_ids=seg_ids, \n",
    "                            attention_mask=mask_ids)\n",
    "      # probs = F.softmax(outputs, dim=1)\n",
    "      # max_idx = torch.max(outputs, 1).indices\n",
    "      # one_hot = F.one_hot(max_idx, outputs.shape[1])\n",
    "\n",
    "      criterion = nn.CrossEntropyLoss()\n",
    "      loss = criterion(outputs, labels)\n",
    "      acc = multi_acc(outputs, labels)\n",
    "      ########################################\n",
    "\n",
    "      total_val_loss += loss.item()\n",
    "      total_val_acc  += acc.item()\n",
    "\n",
    "      # log predictions for classification report\n",
    "      argmax_predictions = torch.argmax(outputs,dim=1).tolist()\n",
    "      labels_list = labels.tolist()\n",
    "      assert(len(labels_list)==len(argmax_predictions))\n",
    "      for p in argmax_predictions: y_pred.append(rev_label_dict[int(p)])\n",
    "      for l in labels_list: y_true.append(rev_label_dict[l])\n",
    "\n",
    "  val_acc  = total_val_acc/len(data_loader)\n",
    "  val_loss = total_val_loss/len(data_loader)\n",
    "  cr = classification_report(y_true, y_pred)\n",
    "\n",
    "  # if not is_training:\n",
    "  #   save_cm(y_true, y_pred, rev_label_dict)\n",
    "  \n",
    "  return val_acc, val_loss, cr, model, optimizer"
   ]
  },
  {
   "cell_type": "markdown",
   "metadata": {},
   "source": [
    "## define bert custom model"
   ]
  },
  {
   "cell_type": "code",
   "execution_count": 98,
   "metadata": {},
   "outputs": [
    {
     "name": "stdout",
     "output_type": "stream",
     "text": [
      "ASSIGN: 33\n"
     ]
    },
    {
     "name": "stderr",
     "output_type": "stream",
     "text": [
      "Some weights of the model checkpoint at GroNLP/bert-base-dutch-cased were not used when initializing BertModel: ['cls.predictions.transform.dense.bias', 'cls.predictions.transform.LayerNorm.bias', 'cls.predictions.transform.dense.weight', 'cls.predictions.decoder.weight', 'cls.predictions.decoder.bias', 'cls.predictions.bias', 'cls.predictions.transform.LayerNorm.weight']\n",
      "- This IS expected if you are initializing BertModel from the checkpoint of a model trained on another task or with another architecture (e.g. initializing a BertForSequenceClassification model from a BertForPreTraining model).\n",
      "- This IS NOT expected if you are initializing BertModel from the checkpoint of a model that you expect to be exactly identical (initializing a BertForSequenceClassification model from a BertForSequenceClassification model).\n",
      "Some weights of BertModel were not initialized from the model checkpoint at GroNLP/bert-base-dutch-cased and are newly initialized: ['bert.pooler.dense.weight', 'bert.pooler.dense.bias']\n",
      "You should probably TRAIN this model on a down-stream task to be able to use it for predictions and inference.\n"
     ]
    }
   ],
   "source": [
    "from transformers import BertModel, AutoTokenizer\n",
    "import torch.nn as nn\n",
    "class CustomBERTModel(nn.Module):\n",
    "    #https://stackoverflow.com/questions/64156202/add-dense-layer-on-top-of-huggingface-bert-model\n",
    "    def __init__(self, num_labels):\n",
    "          super(CustomBERTModel, self).__init__()\n",
    "          self.num_classes = num_labels+1 # zero indexed classes\n",
    "          print('ASSIGN:', self.num_classes)\n",
    "          self.bert = BertModel.from_pretrained(BERT_MODEL)\n",
    "          ### New layers:\n",
    "          self.linear1 = nn.Linear(768, 512)\n",
    "          self.linear2 = nn.Linear(512, 256)\n",
    "          self.linear3 = nn.Linear(256, 128)\n",
    "          self.linear4 = nn.Linear(128, self.num_classes)\n",
    "          self.act1 = nn.ReLU() # can i use the same activation object everywhere?\n",
    "          self.act2 = nn.ReLU()\n",
    "          self.act3 = nn.ReLU()\n",
    "          self.drop = nn.Dropout(0.1) \n",
    "\n",
    "    def forward(self, pair_token_ids, token_type_ids, attention_mask):\n",
    "        sequence_output, pooled_output = self.bert(input_ids=pair_token_ids, \n",
    "                        token_type_ids=token_type_ids, \n",
    "                        attention_mask=attention_mask).values()\n",
    "\n",
    "        # sequence_output has the following shape: (batch_size, sequence_length, 768)\n",
    "        linear1_output = self.linear1(sequence_output[:,0,:].view(-1,768)) ## extract the 1st token's embeddings\n",
    "        linear1_output = self.act1(linear1_output)\n",
    "        linear2_output = self.linear2(linear1_output)\n",
    "        linear2_output = self.act2(linear2_output)\n",
    "        linear3_output = self.linear3(linear2_output)\n",
    "        linear3_output = self.act3(linear3_output)\n",
    "        linear4_output = self.linear4(linear3_output)\n",
    "        drop_output = self.drop(linear4_output)\n",
    "        return drop_output# loss, outputs\n",
    "\n",
    "# tokenizer = AutoTokenizer.from_pretrained(BERT_MODEL)\n",
    "model = CustomBERTModel(mnli_dataset.num_labels) # You can pass the parameters if required to have more flexible model\n",
    "model.to(device) ## can be gpu\n",
    "optimizer = AdamW(model.parameters(), lr=2e-5, correct_bias=False)"
   ]
  },
  {
   "cell_type": "markdown",
   "metadata": {},
   "source": [
    "## define training regime"
   ]
  },
  {
   "cell_type": "code",
   "execution_count": 99,
   "metadata": {},
   "outputs": [],
   "source": [
    "### MODIFIED\n",
    "import time\n",
    "import traceback\n",
    "import torch.nn.functional as F\n",
    "from typing import Optional, Iterable, Dict, Any\n",
    "from EarlyStopperUtil import MetricTracker\n",
    "\n",
    "\n",
    "from sklearn.metrics import classification_report\n",
    "\n",
    "EPOCHS = 100\n",
    "\n",
    "def train(model, train_loader, val_loader, optimizer, scheduler, rev_label_dict):  \n",
    "  EarlyStopper = MetricTracker(patience=12, metric_name='+accuracy')\n",
    "\n",
    "  for epoch in range(EPOCHS):\n",
    "    start = time.time()\n",
    "    model.train()\n",
    "    total_train_loss = 0\n",
    "    total_train_acc  = 0\n",
    "\n",
    "    # logging for scheduler\n",
    "    losses = []\n",
    "    accuracies= []\n",
    "\n",
    "    train_size = 0\n",
    "\n",
    "    for batch_idx, (pair_token_ids, mask_ids, seg_ids, y) in enumerate(train_loader):\n",
    "      train_size+=1\n",
    "      optimizer.zero_grad()\n",
    "      pair_token_ids = pair_token_ids.to(device)\n",
    "      mask_ids = mask_ids.to(device)\n",
    "      seg_ids = seg_ids.to(device)\n",
    "      labels = y.to(device)\n",
    "\n",
    "      ############new code#####################\n",
    "\n",
    "      outputs = model(pair_token_ids, \n",
    "                            token_type_ids=seg_ids, \n",
    "                            attention_mask=mask_ids)\n",
    "      # outputs = F.log_softmax(outputs, dim=1) # log prob\n",
    "      # outputs = np.argmax(prob, axis=1) # preds\n",
    "      # https://stackoverflow.com/questions/43672047/convert-probability-vector-into-target-vector-in-python\n",
    "      # https://pytorch.org/tutorials/beginner/blitz/cifar10_tutorial.html\n",
    "      criterion = nn.CrossEntropyLoss()\n",
    "      loss = criterion(outputs, labels)\n",
    "      loss.backward()\n",
    "      acc = multi_acc(outputs, labels)\n",
    "      optimizer.step()\n",
    "      ################old code#################\n",
    "\n",
    "      # loss, prediction = model(pair_token_ids, \n",
    "      #                       token_type_ids=seg_ids, \n",
    "      #                       attention_mask=mask_ids, \n",
    "      #                       labels=labels).values()\n",
    "\n",
    "      # acc = multi_acc(prediction, labels)\n",
    "      # loss.backward()\n",
    "      # optimizer.step()\n",
    "\n",
    "      ########################################\n",
    "      total_train_loss += loss.item()\n",
    "      total_train_acc  += acc.item()\n",
    "\n",
    "      # log losses for scheduler\n",
    "      losses.append(loss)\n",
    "      accuracies.append(acc)\n",
    "      mean_loss = sum(losses)/len(losses)\n",
    "      scheduler.step(mean_loss)\n",
    "\n",
    "\n",
    "    train_acc  = total_train_acc/len(train_loader)\n",
    "    train_loss = total_train_loss/len(train_loader)\n",
    "\n",
    "    val_acc, val_loss, cr, model, optimizer = evaluate_accuracy(model, optimizer, val_loader, rev_label_dict, label_dict)\n",
    "    EarlyStopper.add_metric(val_acc)\n",
    "    if EarlyStopper.should_stop_early(): break\n",
    "\n",
    "    end = time.time()\n",
    "    hours, rem = divmod(end-start, 3600)\n",
    "    minutes, seconds = divmod(rem, 60)\n",
    "\n",
    "    print(f'Epoch {epoch+1}: train_loss: {train_loss:.4f} train_acc: {train_acc:.4f} | val_loss: {val_loss:.4f} val_acc: {val_acc:.4f}')\n",
    "    print(\"{:0>2}:{:0>2}:{:05.2f}\".format(int(hours),int(minutes),seconds))\n",
    "    print(f'train_size: {train_size}')\n"
   ]
  },
  {
   "cell_type": "code",
   "execution_count": 100,
   "metadata": {},
   "outputs": [
    {
     "name": "stdout",
     "output_type": "stream",
     "text": [
      "Epoch 00004: reducing learning rate of group 0 to 1.2000e-05.\n",
      "Epoch 00007: reducing learning rate of group 0 to 7.2000e-06.\n",
      "Epoch 00010: reducing learning rate of group 0 to 4.3200e-06.\n",
      "Epoch 00013: reducing learning rate of group 0 to 2.5920e-06.\n",
      "Epoch 00016: reducing learning rate of group 0 to 1.5552e-06.\n",
      "Epoch 00019: reducing learning rate of group 0 to 9.3312e-07.\n",
      "Epoch 00022: reducing learning rate of group 0 to 5.5987e-07.\n",
      "Epoch 00025: reducing learning rate of group 0 to 5.0000e-07.\n",
      "Epoch 1: train_loss: 2.8632 train_acc: 0.2864 | val_loss: 2.2926 val_acc: 0.3757\n",
      "00:00:19.71\n",
      "train_size: 64\n",
      "Epoch 2: train_loss: 2.1545 train_acc: 0.4238 | val_loss: 2.1052 val_acc: 0.4695\n",
      "00:00:19.82\n",
      "train_size: 64\n",
      "Epoch 3: train_loss: 1.5348 train_acc: 0.5781 | val_loss: 2.0279 val_acc: 0.5076\n",
      "00:00:19.63\n",
      "train_size: 64\n",
      "Epoch 4: train_loss: 1.1246 train_acc: 0.7122 | val_loss: 2.0164 val_acc: 0.4950\n",
      "00:00:19.90\n",
      "train_size: 64\n",
      "Epoch 5: train_loss: 0.8042 train_acc: 0.8083 | val_loss: 2.1861 val_acc: 0.5050\n",
      "00:00:19.53\n",
      "train_size: 64\n",
      "Epoch 6: train_loss: 0.6310 train_acc: 0.8547 | val_loss: 2.3920 val_acc: 0.4794\n",
      "00:00:19.74\n",
      "train_size: 64\n",
      "Epoch 7: train_loss: 0.4303 train_acc: 0.9026 | val_loss: 2.4496 val_acc: 0.5050\n",
      "00:00:19.48\n",
      "train_size: 64\n",
      "Epoch 8: train_loss: 0.3664 train_acc: 0.9099 | val_loss: 2.3933 val_acc: 0.5045\n",
      "00:00:19.72\n",
      "train_size: 64\n",
      "Epoch 9: train_loss: 0.3146 train_acc: 0.9172 | val_loss: 2.5204 val_acc: 0.5331\n",
      "00:00:19.49\n",
      "train_size: 64\n",
      "Epoch 10: train_loss: 0.2759 train_acc: 0.9236 | val_loss: 2.5446 val_acc: 0.5353\n",
      "00:00:19.77\n",
      "train_size: 64\n",
      "Epoch 11: train_loss: 0.2519 train_acc: 0.9229 | val_loss: 2.9878 val_acc: 0.4950\n",
      "00:00:19.54\n",
      "train_size: 64\n",
      "Epoch 12: train_loss: 0.2177 train_acc: 0.9348 | val_loss: 2.9429 val_acc: 0.5279\n",
      "00:00:19.85\n",
      "train_size: 64\n",
      "Epoch 13: train_loss: 0.1961 train_acc: 0.9397 | val_loss: 3.3952 val_acc: 0.4976\n",
      "00:00:19.58\n",
      "train_size: 64\n",
      "Epoch 14: train_loss: 0.2080 train_acc: 0.9343 | val_loss: 3.3270 val_acc: 0.4898\n",
      "00:00:19.72\n",
      "train_size: 64\n",
      "Epoch 15: train_loss: 0.1847 train_acc: 0.9412 | val_loss: 3.3405 val_acc: 0.4998\n",
      "00:00:19.85\n",
      "train_size: 64\n",
      "Epoch 16: train_loss: 0.1982 train_acc: 0.9358 | val_loss: 3.4778 val_acc: 0.4972\n",
      "00:00:19.64\n",
      "train_size: 64\n",
      "Epoch 17: train_loss: 0.1779 train_acc: 0.9431 | val_loss: 3.4760 val_acc: 0.4898\n",
      "00:00:19.81\n",
      "train_size: 64\n",
      "Epoch 18: train_loss: 0.1631 train_acc: 0.9458 | val_loss: 3.8177 val_acc: 0.4747\n",
      "00:00:19.79\n",
      "train_size: 64\n",
      "Epoch 19: train_loss: 0.1481 train_acc: 0.9524 | val_loss: 3.5144 val_acc: 0.5253\n",
      "00:00:20.06\n",
      "train_size: 64\n",
      "Epoch 20: train_loss: 0.1562 train_acc: 0.9446 | val_loss: 3.7660 val_acc: 0.4777\n",
      "00:00:19.77\n",
      "train_size: 64\n",
      "Epoch 21: train_loss: 0.1528 train_acc: 0.9507 | val_loss: 3.8230 val_acc: 0.5128\n",
      "00:00:19.99\n",
      "train_size: 64\n"
     ]
    }
   ],
   "source": [
    "import warnings\n",
    "from sklearn.exceptions import DataConversionWarning\n",
    "with warnings.catch_warnings():\n",
    "    warnings.simplefilter(\"ignore\")\n",
    "\n",
    "    train(model, train_loader, val_loader, optimizer, scheduler, rev_label_dict)"
   ]
  },
  {
   "cell_type": "code",
   "execution_count": 101,
   "metadata": {},
   "outputs": [],
   "source": [
    "save_path = 'bert-disrpt_nld_'+str(batch_size)+'X'+str(batches_per_epoch)+'.pt'\n",
    "torch.save(model.state_dict(), save_path)"
   ]
  },
  {
   "cell_type": "markdown",
   "metadata": {},
   "source": [
    "# test"
   ]
  },
  {
   "cell_type": "code",
   "execution_count": 102,
   "metadata": {},
   "outputs": [
    {
     "name": "stdout",
     "output_type": "stream",
     "text": [
      "Test_loss: 4.4656 test_acc: 0.4349\n",
      "00:00:00.48\n",
      "                      precision    recall  f1-score   support\n",
      "\n",
      "          antithesis       0.00      0.00      0.00         2\n",
      "          background       0.14      0.33      0.20         3\n",
      "        circumstance       0.24      0.38      0.29        16\n",
      "          concession       0.50      0.58      0.54        12\n",
      "           condition       0.56      0.62      0.59         8\n",
      "         conjunction       0.36      0.42      0.39        19\n",
      "            contrast       0.40      0.57      0.47         7\n",
      "         disjunction       1.00      0.50      0.67         4\n",
      "         elaboration       0.64      0.64      0.64        95\n",
      "          enablement       0.17      0.50      0.25         4\n",
      "          evaluation       0.25      0.50      0.33         2\n",
      "            evidence       0.33      0.17      0.22         6\n",
      "      interpretation       0.10      0.20      0.13        10\n",
      "               joint       0.00      0.00      0.00         3\n",
      "             justify       0.38      0.60      0.46        10\n",
      "                list       0.00      0.00      0.00        12\n",
      "               means       0.50      0.25      0.33         4\n",
      "          motivation       0.69      0.31      0.43        29\n",
      " nonvolitional-cause       0.60      0.46      0.52        13\n",
      "nonvolitional-result       0.30      0.21      0.25        14\n",
      "           otherwise       0.00      0.00      0.00         1\n",
      "         preparation       0.56      0.26      0.36        19\n",
      "             purpose       1.00      0.67      0.80         6\n",
      "         restatement       0.00      0.00      0.00         2\n",
      "            sequence       0.33      0.10      0.15        10\n",
      "        solutionhood       0.25      0.25      0.25         8\n",
      "                span       0.00      0.00      0.00         1\n",
      "             summary       0.33      0.25      0.29         4\n",
      "    volitional-cause       0.00      0.00      0.00         2\n",
      "\n",
      "            accuracy                           0.42       326\n",
      "           macro avg       0.33      0.30      0.30       326\n",
      "        weighted avg       0.47      0.42      0.43       326\n",
      "\n",
      "Test Loss: 4.466 |  Test Acc: 43.49%\n"
     ]
    },
    {
     "name": "stderr",
     "output_type": "stream",
     "text": [
      "/home/VD/kaveri/anaconda3/envs/py310/lib/python3.10/site-packages/sklearn/metrics/_classification.py:1327: UndefinedMetricWarning: Precision and F-score are ill-defined and being set to 0.0 in labels with no predicted samples. Use `zero_division` parameter to control this behavior.\n",
      "  _warn_prf(average, modifier, msg_start, len(result))\n",
      "/home/VD/kaveri/anaconda3/envs/py310/lib/python3.10/site-packages/sklearn/metrics/_classification.py:1327: UndefinedMetricWarning: Precision and F-score are ill-defined and being set to 0.0 in labels with no predicted samples. Use `zero_division` parameter to control this behavior.\n",
      "  _warn_prf(average, modifier, msg_start, len(result))\n",
      "/home/VD/kaveri/anaconda3/envs/py310/lib/python3.10/site-packages/sklearn/metrics/_classification.py:1327: UndefinedMetricWarning: Precision and F-score are ill-defined and being set to 0.0 in labels with no predicted samples. Use `zero_division` parameter to control this behavior.\n",
      "  _warn_prf(average, modifier, msg_start, len(result))\n"
     ]
    }
   ],
   "source": [
    "def validate(model, test_loader, optimizer, rev_label_dict, label_dict):\n",
    "  start = time.time()\n",
    "  test_acc, test_loss, cr, model, optimizer = evaluate_accuracy(model, optimizer, test_loader, rev_label_dict, label_dict, is_training=False)\n",
    "  end = time.time()\n",
    "  hours, rem = divmod(end-start, 3600)\n",
    "  minutes, seconds = divmod(rem, 60)\n",
    "\n",
    "  print(f'Test_loss: {test_loss:.4f} test_acc: {test_acc:.4f}')\n",
    "  print(\"{:0>2}:{:0>2}:{:05.2f}\".format(int(hours),int(minutes),seconds))\n",
    "  print(cr)\n",
    "\n",
    "  return test_loss, test_acc\n",
    "\n",
    "\n",
    "# model.load_state_dict(torch.load(save_path))\n",
    "test_loss, test_acc = validate(model, test_loader, optimizer, rev_label_dict, label_dict)\n",
    "print(f'Test Loss: {test_loss:.3f} |  Test Acc: {test_acc*100:.2f}%')"
   ]
  },
  {
   "cell_type": "code",
   "execution_count": null,
   "metadata": {},
   "outputs": [],
   "source": []
  }
 ],
 "metadata": {
  "interpreter": {
   "hash": "e3409ea685db85227fbd9509d1b1ace14d085473eb2d57f3ba9dd0302d25f838"
  },
  "kernelspec": {
   "display_name": "Python 3.10.4 ('py310')",
   "language": "python",
   "name": "python3"
  },
  "language_info": {
   "codemirror_mode": {
    "name": "ipython",
    "version": 3
   },
   "file_extension": ".py",
   "mimetype": "text/x-python",
   "name": "python",
   "nbconvert_exporter": "python",
   "pygments_lexer": "ipython3",
   "version": "3.10.4"
  },
  "orig_nbformat": 4
 },
 "nbformat": 4,
 "nbformat_minor": 2
}
